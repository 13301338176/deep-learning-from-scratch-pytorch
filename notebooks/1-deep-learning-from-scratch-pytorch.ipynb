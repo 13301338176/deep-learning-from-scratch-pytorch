{
 "cells": [
  {
   "cell_type": "markdown",
   "metadata": {},
   "source": [
    "# 1-deep-learning-from-scratch-pytorch"
   ]
  },
  {
   "cell_type": "markdown",
   "metadata": {},
   "source": [
    "## Machine learning: classification"
   ]
  },
  {
   "cell_type": "markdown",
   "metadata": {},
   "source": [
    "State the challenge of classification and give an example of building an ML algo using scikit-learn.\n",
    "\n",
    "Hit the following points:\n",
    "\n",
    "* ML algos require both training data *and* an optimization metric\n",
    "* train test split\n",
    "* overfitting//underfitting\n",
    "* data science, ML, and AI consolidate and re-arrange power structures: they're cultural, economic, and social tools, as well as technical tools. Also: who chooses the classification scheme, the columns, the rows?"
   ]
  },
  {
   "cell_type": "markdown",
   "metadata": {},
   "source": [
    "## Machine Learning: regression"
   ]
  },
  {
   "cell_type": "markdown",
   "metadata": {},
   "source": [
    "Machine learning where the target is a continuous variable."
   ]
  },
  {
   "cell_type": "markdown",
   "metadata": {},
   "source": [
    "# Neural networks"
   ]
  },
  {
   "cell_type": "markdown",
   "metadata": {},
   "source": [
    "- ML models inspired by biological neural networks.\n",
    "- Good for image classification, NLP, and more.\n"
   ]
  },
  {
   "cell_type": "markdown",
   "metadata": {},
   "source": [
    "![title](../img/george.jpg)"
   ]
  },
  {
   "cell_type": "markdown",
   "metadata": {},
   "source": [
    "Image from [here](https://www.pnas.org/content/116/4/1074/tab-figures-data)."
   ]
  },
  {
   "cell_type": "markdown",
   "metadata": {},
   "source": [
    "When making predictions with neural networks, we use a procedure called **forward propagation**. When training neural networks (that is, finding the optimal weights), we use a procedure called **back propogation**. So let's first jump into forward propogation!"
   ]
  },
  {
   "cell_type": "markdown",
   "metadata": {},
   "source": [
    "## Forward propogation"
   ]
  },
  {
   "cell_type": "markdown",
   "metadata": {},
   "source": [
    "### Single-layer perceptron"
   ]
  },
  {
   "cell_type": "markdown",
   "metadata": {},
   "source": [
    "First example is the single layer perceptron (SLP). [Include image].\n",
    "The parameters that change when we train the model are the weights.\n",
    "Check it out on randomly generated data.\n",
    "The model is $y = w\\cdot x + b $ (vectors).\n",
    "Following image is from [here](https://deepai.org/machine-learning-glossary-and-terms/perceptron) (can make our own or cite this)."
   ]
  },
  {
   "cell_type": "markdown",
   "metadata": {},
   "source": [
    "![title](../img/perceptron.jpg)"
   ]
  },
  {
   "cell_type": "code",
   "execution_count": 1,
   "metadata": {},
   "outputs": [
    {
     "name": "stdout",
     "output_type": "stream",
     "text": [
      "0.07513846803825697\n"
     ]
    }
   ],
   "source": [
    "import numpy as np\n",
    "import matplotlib.pyplot as plt\n",
    "%matplotlib inline\n",
    "import seaborn as sns\n",
    "sns.set()\n",
    "x = np.random.rand(5) - 0.5 # one training data point, 5 features/columns\n",
    "w = np.random.normal(size=5) # weights, one for each feature\n",
    "b = 0 # bias/offset\n",
    "y = np.dot(x, w) + b\n",
    "print(y)"
   ]
  },
  {
   "cell_type": "markdown",
   "metadata": {},
   "source": [
    "This is a regressor."
   ]
  },
  {
   "cell_type": "markdown",
   "metadata": {},
   "source": [
    "For classification, you can threshold it, e.g.:"
   ]
  },
  {
   "cell_type": "code",
   "execution_count": 2,
   "metadata": {},
   "outputs": [
    {
     "data": {
      "text/plain": [
       "1.0"
      ]
     },
     "execution_count": 2,
     "metadata": {},
     "output_type": "execute_result"
    }
   ],
   "source": [
    "z = np.sign(y)\n",
    "z"
   ]
  },
  {
   "cell_type": "markdown",
   "metadata": {},
   "source": [
    "You can also turn it into a logistic regression classifier:"
   ]
  },
  {
   "cell_type": "code",
   "execution_count": 3,
   "metadata": {},
   "outputs": [
    {
     "data": {
      "text/plain": [
       "0"
      ]
     },
     "execution_count": 3,
     "metadata": {},
     "output_type": "execute_result"
    }
   ],
   "source": [
    "def sigmoid(Z):\n",
    "    return 1/(1+np.exp(-Z))\n",
    "\n",
    "z = int(sigmoid(y) < 0.5)\n",
    "z"
   ]
  },
  {
   "cell_type": "markdown",
   "metadata": {},
   "source": [
    "### SLP For many data points"
   ]
  },
  {
   "cell_type": "code",
   "execution_count": 4,
   "metadata": {},
   "outputs": [
    {
     "data": {
      "text/plain": [
       "array([-0.59553593, -0.1318721 ,  0.15183036, -0.45237007, -1.00372881])"
      ]
     },
     "execution_count": 4,
     "metadata": {},
     "output_type": "execute_result"
    }
   ],
   "source": [
    "# generate more data points\n",
    "x = np.random.rand(5, 5) - 0.5\n",
    "# SLP for regression\n",
    "w = np.random.normal(size=5)\n",
    "y = np.dot(x, w) + b\n",
    "y"
   ]
  },
  {
   "cell_type": "code",
   "execution_count": 5,
   "metadata": {},
   "outputs": [
    {
     "data": {
      "text/plain": [
       "array([-1., -1.,  1., -1., -1.])"
      ]
     },
     "execution_count": 5,
     "metadata": {},
     "output_type": "execute_result"
    }
   ],
   "source": [
    "#SLP for classification\n",
    "z = np.sign(y)\n",
    "z"
   ]
  },
  {
   "cell_type": "code",
   "execution_count": 6,
   "metadata": {},
   "outputs": [
    {
     "data": {
      "text/plain": [
       "array([1, 1, 0, 1, 1])"
      ]
     },
     "execution_count": 6,
     "metadata": {},
     "output_type": "execute_result"
    }
   ],
   "source": [
    "# Logreg\n",
    "z = (sigmoid(y) < 0.5).astype(int)\n",
    "z"
   ]
  },
  {
   "cell_type": "markdown",
   "metadata": {},
   "source": [
    "### Multilayer perceptron"
   ]
  },
  {
   "cell_type": "markdown",
   "metadata": {},
   "source": [
    "NNs have hidden layers (between input and output). Lets add one layer! Image from [here](https://www.researchgate.net/figure/A-hypothetical-example-of-Multilayer-Perceptron-Network_fig4_303875065)"
   ]
  },
  {
   "cell_type": "markdown",
   "metadata": {},
   "source": [
    "![title](../img/mlp.png)"
   ]
  },
  {
   "cell_type": "markdown",
   "metadata": {},
   "source": [
    "Notes:\n",
    "* Each of the 5 node in 1st hidden layer has 5 inputs so it will have a 5 x 5 array for weights\n",
    "* The output layer has one node and 5 inputs so will have a 5 x 1 array of weights"
   ]
  },
  {
   "cell_type": "code",
   "execution_count": 7,
   "metadata": {},
   "outputs": [],
   "source": [
    "x = np.random.rand(5) - 0.5 # generate data\n",
    "w1 = np.random.normal(size=(5, 5)) # weights for hidden layer\n",
    "w2 = np.random.normal(size=(5, 1)) # weights for output layer\n",
    "b1 = np.random.normal(size=(1, 5))\n",
    "b2 = np.random.normal(size=(1, 1))"
   ]
  },
  {
   "cell_type": "code",
   "execution_count": 8,
   "metadata": {},
   "outputs": [
    {
     "name": "stdout",
     "output_type": "stream",
     "text": [
      "[[-1.52174402 -1.4221002  -0.82192992 -0.267163    0.68667685]]\n",
      "[[0.01063195]]\n"
     ]
    }
   ],
   "source": [
    "y1 = x @ w1 + b1\n",
    "print(y1)\n",
    "y2 = y1 @ w2 + b2\n",
    "print(y2)\n",
    "#g1 = relu(z1)"
   ]
  },
  {
   "cell_type": "markdown",
   "metadata": {},
   "source": [
    "Note that we've essentially just concatenated two linear operations so we still only have a linear regression! If the problem is non-linear, this won't be much use. To deal with non-linearities, we use activation functions."
   ]
  },
  {
   "cell_type": "markdown",
   "metadata": {},
   "source": [
    "### Activation functions"
   ]
  },
  {
   "cell_type": "markdown",
   "metadata": {},
   "source": [
    "Common activation functions are relu, sigmoid, and tanh. We've seen sigmoid. numpy has `np.tanh`. Relu is"
   ]
  },
  {
   "cell_type": "code",
   "execution_count": 9,
   "metadata": {},
   "outputs": [],
   "source": [
    "def relu(x):\n",
    "    return np.maximum(0,x)"
   ]
  },
  {
   "cell_type": "markdown",
   "metadata": {},
   "source": [
    "[Plot these, HBA]"
   ]
  },
  {
   "cell_type": "markdown",
   "metadata": {},
   "source": [
    "Use relu now for 10 data points and one hidden layer with 8 nodes:"
   ]
  },
  {
   "cell_type": "code",
   "execution_count": 10,
   "metadata": {},
   "outputs": [],
   "source": [
    "# for many data points\n",
    "x = np.random.rand(10, 5) - 0.5\n",
    "w1 = np.random.normal(size=(5, 8))\n",
    "w2 = np.random.normal(size=(8, 1))\n"
   ]
  },
  {
   "cell_type": "code",
   "execution_count": 11,
   "metadata": {},
   "outputs": [
    {
     "data": {
      "text/plain": [
       "(10, 8)"
      ]
     },
     "execution_count": 11,
     "metadata": {},
     "output_type": "execute_result"
    }
   ],
   "source": [
    "y1 = x @ w1\n",
    "z1 = relu(y1)\n",
    "z1.shape"
   ]
  },
  {
   "cell_type": "code",
   "execution_count": 12,
   "metadata": {},
   "outputs": [
    {
     "data": {
      "text/plain": [
       "array([[ 1.4606266 ],\n",
       "       [ 2.57788516],\n",
       "       [ 2.45776696],\n",
       "       [-2.32933383],\n",
       "       [-0.29508433],\n",
       "       [-2.52157464],\n",
       "       [ 2.43414271],\n",
       "       [-4.21985907],\n",
       "       [-4.27939732],\n",
       "       [ 0.65706403]])"
      ]
     },
     "execution_count": 12,
     "metadata": {},
     "output_type": "execute_result"
    }
   ],
   "source": [
    "z2 = y1 @ w2\n",
    "z2"
   ]
  },
  {
   "cell_type": "markdown",
   "metadata": {},
   "source": [
    "### Deeper Networks"
   ]
  },
  {
   "cell_type": "markdown",
   "metadata": {},
   "source": [
    "Now we'll build a regressor with 4 hidden layers"
   ]
  },
  {
   "cell_type": "code",
   "execution_count": 13,
   "metadata": {},
   "outputs": [
    {
     "data": {
      "text/plain": [
       "array([[ 1.55329405, -0.55451408,  0.31975102,  1.46229887, -0.71778719,\n",
       "         0.86041681, -1.37197404, -1.26163182,  0.68761017,  1.15185618],\n",
       "       [ 0.31342245, -1.73698619, -0.55657172,  2.03809364, -0.32349203,\n",
       "        -0.12299315, -0.03488666,  1.612478  ,  1.07804918,  0.10172547],\n",
       "       [ 1.267942  , -0.64351151,  0.48088209, -0.70743968,  0.88148067,\n",
       "        -0.23923243, -0.49666807, -0.53271716,  1.80072295, -0.844124  ],\n",
       "       [ 0.81227717,  0.87454471, -0.7483233 ,  0.62293174, -0.40573389,\n",
       "         0.93923559,  0.16097881,  0.54836976,  0.59832647,  0.94773392],\n",
       "       [ 0.79335681,  0.17413848,  1.33426644,  0.43797411, -0.87144443,\n",
       "         1.71156982, -0.44657354,  0.51455819,  1.27907102, -0.40474917],\n",
       "       [ 1.52607224, -0.3354502 , -0.69969128, -1.69412501,  0.45686579,\n",
       "         0.5185327 ,  0.11676989,  0.24172116,  0.51499922,  1.90208871],\n",
       "       [-1.01126395,  0.98923742, -1.87990266,  0.8096087 ,  0.91669003,\n",
       "        -1.63774028, -0.33084419,  0.67481669,  1.41628869, -0.32696367],\n",
       "       [ 0.69984823,  1.17555563,  0.35573998, -1.2177675 , -0.48871152,\n",
       "         0.21104679,  0.35748735, -0.17584363,  0.39728527,  0.38308117],\n",
       "       [-0.34556316, -2.10644745,  0.53526988, -0.1559769 ,  0.55736203,\n",
       "         0.29937393,  0.43334094,  0.83125036, -1.60067653, -1.54747336],\n",
       "       [-0.76881362,  0.88157268, -0.37955826, -0.88950715, -0.02505093,\n",
       "        -0.47864477, -0.50823958,  0.65309871,  0.10412407, -0.88512422]])"
      ]
     },
     "execution_count": 13,
     "metadata": {},
     "output_type": "execute_result"
    }
   ],
   "source": [
    "x = x = np.random.rand(8, 10) - 0.5\n",
    "n = 4 # number of hidden layers\n",
    "weights = {}\n",
    "for i in range(n):\n",
    "    #print(f\"weights_{i}\")\n",
    "    weights[i] = np.random.normal(size=(10, 10))\n",
    "weights[n] = np.random.normal(size=(10, 1))\n",
    "weights[0]"
   ]
  },
  {
   "cell_type": "code",
   "execution_count": 14,
   "metadata": {},
   "outputs": [
    {
     "data": {
      "text/plain": [
       "array([[0.],\n",
       "       [0.],\n",
       "       [0.],\n",
       "       [0.],\n",
       "       [0.],\n",
       "       [0.],\n",
       "       [0.],\n",
       "       [0.]])"
      ]
     },
     "execution_count": 14,
     "metadata": {},
     "output_type": "execute_result"
    }
   ],
   "source": [
    "# forward propogation\n",
    "\n",
    "for i in range(n):\n",
    "    y = relu(x @ weights[0])\n",
    "    y = relu(y @ weights[i+1])\n",
    "y # edit final layer, HBA"
   ]
  },
  {
   "cell_type": "markdown",
   "metadata": {},
   "source": [
    "## Representation learning"
   ]
  },
  {
   "cell_type": "markdown",
   "metadata": {},
   "source": [
    "* Add some notes // thoughts on forward propogation and representation learning :)"
   ]
  },
  {
   "cell_type": "markdown",
   "metadata": {},
   "source": [
    "## Back propagation"
   ]
  },
  {
   "cell_type": "markdown",
   "metadata": {},
   "source": [
    "Back propagation is the algorithm used to optimize the weights of neural networks. Before jumping into back prop, let's first check out how gradient descent can be used to optimize the weights of perceptrons."
   ]
  },
  {
   "cell_type": "markdown",
   "metadata": {},
   "source": [
    "## Gradient descent"
   ]
  },
  {
   "cell_type": "markdown",
   "metadata": {},
   "source": [
    "Now we know how to use forward propogation to make predictions, it's time to think about how to train a neural network! That is, how we determine the best model parameters. Reminder: our NN model parameters are the weights and biases.\n",
    "\n",
    "We want to minimize the difference between the target variable $y$ and the prediction made by our forward propagation algorithm. So after a forward pass, we use *gradient descent* to change the weights and then do another forward pass and see if we have improved our predictions.\n",
    "\n",
    "[include gradient descent image; something like this: https://www.google.com/search?q=gradient+descent&sxsrf=ALeKk00BkP9cVptRdHb7ud9SBaUc1VlSHg:1592047263771&source=lnms&tbm=isch&sa=X&ved=2ahUKEwixoP2c1v7pAhVGzjgGHdwICqAQ_AUoAXoECBMQAw&biw=1680&bih=880#imgrc=hYvKSF67IoYy_M]"
   ]
  },
  {
   "cell_type": "markdown",
   "metadata": {},
   "source": [
    "### Gradient Descent and the Single Layer Perceptron"
   ]
  },
  {
   "cell_type": "markdown",
   "metadata": {},
   "source": [
    "[include SLP image again]"
   ]
  },
  {
   "cell_type": "code",
   "execution_count": 15,
   "metadata": {},
   "outputs": [],
   "source": [
    "# write SLP function\n",
    "def slp(x, w, b):\n",
    "    y = x @ w + b\n",
    "    return y"
   ]
  },
  {
   "cell_type": "code",
   "execution_count": 16,
   "metadata": {},
   "outputs": [
    {
     "data": {
      "text/plain": [
       "array([-0.23216757, -1.15635489,  1.01242202,  0.15886797, -0.36835437])"
      ]
     },
     "execution_count": 16,
     "metadata": {},
     "output_type": "execute_result"
    }
   ],
   "source": [
    "# for single data point\n",
    "x = np.random.rand(1, 5) - 0.5 # generate data\n",
    "b = 0\n",
    "w = np.random.normal(size=5) # initialize weights\n",
    "y = np.random.normal(10)\n",
    "y_hat = slp(x, w, b)\n",
    "w"
   ]
  },
  {
   "cell_type": "markdown",
   "metadata": {},
   "source": [
    "* Discuss how we want to shift each weight slightly in a direction that will improve the prediction *so* we look at how bad the prediction was (prediction minus actual value), take the dot product with the relevant xs, and multiply by the learning rate (which we set and this decides how drastic the changes to the weights will be; an image will help explain this).\n",
    "* also note that if the prediction is correct, then y_hat - y is zero and there's no change at all.\n",
    "* note that we're updating all weights simultaneously also"
   ]
  },
  {
   "cell_type": "code",
   "execution_count": 17,
   "metadata": {},
   "outputs": [],
   "source": [
    "# gradient descent\n",
    "y_hat = slp(x, w, b)\n",
    "learning_rate = 0.1\n",
    "delta_w = learning_rate*((y_hat - y) * x)\n",
    "delta_b = learning_rate*(y_hat - y) \n",
    "#print(delta_w)\n",
    "w = (w + delta_w).reshape(5)\n",
    "b = b + delta_b"
   ]
  },
  {
   "cell_type": "code",
   "execution_count": 18,
   "metadata": {
    "scrolled": true
   },
   "outputs": [
    {
     "data": {
      "image/png": "[encoded data removed]",
      "text/plain": [
       "<Figure size 432x288 with 1 Axes>"
      ]
     },
     "metadata": {},
     "output_type": "display_data"
    }
   ],
   "source": [
    "# define some lists to plot y_hat - y as we iterate\n",
    "diff = list()\n",
    "for _ in range(30):\n",
    "    y_hat = slp(x, w, b)\n",
    "    diff.append(y_hat - y)\n",
    "    # gradient descent\n",
    "    learning_rate = 0.1\n",
    "    delta_w = learning_rate*((y_hat - y) * x)\n",
    "    delta_b = learning_rate*(y_hat - y) \n",
    "    #print(delta_w)\n",
    "    w = (w - delta_w).reshape(5)\n",
    "    b = b - delta_b\n",
    "    #print(y_hat - y)\n",
    "plt.plot(diff);"
   ]
  },
  {
   "cell_type": "code",
   "execution_count": 19,
   "metadata": {},
   "outputs": [
    {
     "data": {
      "image/png": "[encoded data removed]",
      "text/plain": [
       "<Figure size 432x288 with 1 Axes>"
      ]
     },
     "metadata": {},
     "output_type": "display_data"
    }
   ],
   "source": [
    "# many data points\n",
    "x = np.random.rand(5, 5) - 0.5\n",
    "w = np.random.normal(size=5)\n",
    "b = 0.1\n",
    "diff = list()\n",
    "for _ in range(1000):\n",
    "    y_hat = slp(x, w, b)\n",
    "    diff.append((y_hat - y)@(y_hat - y))\n",
    "    learning_rate = 0.1\n",
    "    delta_w = learning_rate*((y_hat - y) @ x)\n",
    "    #print(delta_w)\n",
    "    w = (w - delta_w).reshape(5)\n",
    "plt.plot(diff);"
   ]
  },
  {
   "cell_type": "markdown",
   "metadata": {},
   "source": [
    "## Back propagation"
   ]
  },
  {
   "cell_type": "code",
   "execution_count": 20,
   "metadata": {},
   "outputs": [],
   "source": [
    "# https://sebastianraschka.com/Articles/2015_singlelayer_neurons.html\n",
    "# https://machinelearningmastery.com/neural-networks-crash-course/\n",
    "# https://machinelearningmastery.com/implement-perceptron-algorithm-scratch-python/"
   ]
  }
 ],
 "metadata": {
  "kernelspec": {
   "display_name": "Python 3",
   "language": "python",
   "name": "python3"
  },
  "language_info": {
   "codemirror_mode": {
    "name": "ipython",
    "version": 3
   },
   "file_extension": ".py",
   "mimetype": "text/x-python",
   "name": "python",
   "nbconvert_exporter": "python",
   "pygments_lexer": "ipython3",
   "version": "3.6.10"
  }
 },
 "nbformat": 4,
 "nbformat_minor": 1
}
